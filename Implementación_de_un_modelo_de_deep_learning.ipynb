{
  "nbformat": 4,
  "nbformat_minor": 0,
  "metadata": {
    "colab": {
      "provenance": []
    },
    "kernelspec": {
      "name": "python3",
      "display_name": "Python 3"
    },
    "language_info": {
      "name": "python"
    },
    "accelerator": "GPU",
    "widgets": {
      "application/vnd.jupyter.widget-state+json": {
        "6c4dbabf8a464619b978e0ccecd72220": {
          "model_module": "@jupyter-widgets/output",
          "model_name": "OutputModel",
          "model_module_version": "1.0.0",
          "state": {
            "_dom_classes": [],
            "_model_module": "@jupyter-widgets/output",
            "_model_module_version": "1.0.0",
            "_model_name": "OutputModel",
            "_view_count": null,
            "_view_module": "@jupyter-widgets/output",
            "_view_module_version": "1.0.0",
            "_view_name": "OutputView",
            "layout": "IPY_MODEL_9611f496a6944de7a66886f5ca0079d5",
            "msg_id": "",
            "outputs": [
              {
                "output_type": "stream",
                "name": "stderr",
                "text": [
                  "WARNING:tensorflow:5 out of the last 6 calls to <function Model.make_predict_function.<locals>.predict_function at 0x791350bd2170> triggered tf.function retracing. Tracing is expensive and the excessive number of tracings could be due to (1) creating @tf.function repeatedly in a loop, (2) passing tensors with different shapes, (3) passing Python objects instead of tensors. For (1), please define your @tf.function outside of the loop. For (2), @tf.function has reduce_retracing=True option that can avoid unnecessary retracing. For (3), please refer to https://www.tensorflow.org/guide/function#controlling_retracing and https://www.tensorflow.org/api_docs/python/tf/function for  more details.\n"
                ]
              },
              {
                "output_type": "stream",
                "name": "stdout",
                "text": [
                  "\r1/1 [==============================] - ETA: 0s"
                ]
              },
              {
                "output_type": "stream",
                "name": "stdout",
                "text": [
                  "\b\b\b\b\b\b\b\b\b\b\b\b\b\b\b\b\b\b\b\b\b\b\b\b\b\b\b\b\b\b\b\b\b\b\b\b\b\b\b\b\b\b\b\b\b\b\r1/1 [==============================] - 0s 345ms/step\n"
                ]
              },
              {
                "output_type": "stream",
                "name": "stdout",
                "text": [
                  "Clase predicha: 3\n"
                ]
              }
            ]
          }
        },
        "9611f496a6944de7a66886f5ca0079d5": {
          "model_module": "@jupyter-widgets/base",
          "model_name": "LayoutModel",
          "model_module_version": "1.2.0",
          "state": {
            "_model_module": "@jupyter-widgets/base",
            "_model_module_version": "1.2.0",
            "_model_name": "LayoutModel",
            "_view_count": null,
            "_view_module": "@jupyter-widgets/base",
            "_view_module_version": "1.2.0",
            "_view_name": "LayoutView",
            "align_content": null,
            "align_items": null,
            "align_self": null,
            "border": null,
            "bottom": null,
            "display": null,
            "flex": null,
            "flex_flow": null,
            "grid_area": null,
            "grid_auto_columns": null,
            "grid_auto_flow": null,
            "grid_auto_rows": null,
            "grid_column": null,
            "grid_gap": null,
            "grid_row": null,
            "grid_template_areas": null,
            "grid_template_columns": null,
            "grid_template_rows": null,
            "height": null,
            "justify_content": null,
            "justify_items": null,
            "left": null,
            "margin": null,
            "max_height": null,
            "max_width": null,
            "min_height": null,
            "min_width": null,
            "object_fit": null,
            "object_position": null,
            "order": null,
            "overflow": null,
            "overflow_x": null,
            "overflow_y": null,
            "padding": null,
            "right": null,
            "top": null,
            "visibility": null,
            "width": null
          }
        },
        "7a07c522cbc64cc288d15d26df90df4c": {
          "model_module": "@jupyter-widgets/controls",
          "model_name": "ButtonModel",
          "model_module_version": "1.5.0",
          "state": {
            "_dom_classes": [],
            "_model_module": "@jupyter-widgets/controls",
            "_model_module_version": "1.5.0",
            "_model_name": "ButtonModel",
            "_view_count": null,
            "_view_module": "@jupyter-widgets/controls",
            "_view_module_version": "1.5.0",
            "_view_name": "ButtonView",
            "button_style": "",
            "description": "Predecir",
            "disabled": false,
            "icon": "",
            "layout": "IPY_MODEL_16d191f3243f43f192506c0dba02960c",
            "style": "IPY_MODEL_3ea065c19eeb408a8b0b4bf47826c467",
            "tooltip": ""
          }
        },
        "16d191f3243f43f192506c0dba02960c": {
          "model_module": "@jupyter-widgets/base",
          "model_name": "LayoutModel",
          "model_module_version": "1.2.0",
          "state": {
            "_model_module": "@jupyter-widgets/base",
            "_model_module_version": "1.2.0",
            "_model_name": "LayoutModel",
            "_view_count": null,
            "_view_module": "@jupyter-widgets/base",
            "_view_module_version": "1.2.0",
            "_view_name": "LayoutView",
            "align_content": null,
            "align_items": null,
            "align_self": null,
            "border": null,
            "bottom": null,
            "display": null,
            "flex": null,
            "flex_flow": null,
            "grid_area": null,
            "grid_auto_columns": null,
            "grid_auto_flow": null,
            "grid_auto_rows": null,
            "grid_column": null,
            "grid_gap": null,
            "grid_row": null,
            "grid_template_areas": null,
            "grid_template_columns": null,
            "grid_template_rows": null,
            "height": null,
            "justify_content": null,
            "justify_items": null,
            "left": null,
            "margin": null,
            "max_height": null,
            "max_width": null,
            "min_height": null,
            "min_width": null,
            "object_fit": null,
            "object_position": null,
            "order": null,
            "overflow": null,
            "overflow_x": null,
            "overflow_y": null,
            "padding": null,
            "right": null,
            "top": null,
            "visibility": null,
            "width": null
          }
        },
        "3ea065c19eeb408a8b0b4bf47826c467": {
          "model_module": "@jupyter-widgets/controls",
          "model_name": "ButtonStyleModel",
          "model_module_version": "1.5.0",
          "state": {
            "_model_module": "@jupyter-widgets/controls",
            "_model_module_version": "1.5.0",
            "_model_name": "ButtonStyleModel",
            "_view_count": null,
            "_view_module": "@jupyter-widgets/base",
            "_view_module_version": "1.2.0",
            "_view_name": "StyleView",
            "button_color": null,
            "font_weight": ""
          }
        }
      }
    }
  },
  "cells": [
    {
      "cell_type": "markdown",
      "source": [
        "### Implementación modelo Deep Learning - Redes convolutivas"
      ],
      "metadata": {
        "id": "cQ6CfxNlMWuS"
      }
    },
    {
      "cell_type": "markdown",
      "source": [
        "En la era digital, la identificación precisa de dibujos de números se ha convertido en un pilar esencial para diversos campos, desde la seguridad hasta la inteligencia artificial. Bajo esta línea los algoritmos de predicción, especialmente las redes convolutivas, desempeñan un papel crucial.\n",
        "\n",
        "Se puede asociar de manera directa con la seguridad y la necesidad de reconocer y validar la autenticidad de dibujos numéricos. Aquí, las redes convolutivas juegan un papel crucial, capaces de escrutar cada trazo para identificar la autenticidad de la representación numérica.\n",
        "\n",
        "En el ámbito de la seguridad, la identificación precisa de dibujos de números es esencial para sistemas de autenticación biométrica, acceso a bases de datos sensibles o incluso la prevención de fraudes. Las redes convolutivas, inspiradas en la estructura visual del cerebro humano, demuestran una eficiencia excepcional al analizar y aprender patrones complejos, permitiendo una identificación confiable de dibujos numéricos en entornos diversos.\n",
        "\n",
        "\n",
        "A continuación mostramos un algoritmos que predice o identifica los números dibujados por una persona."
      ],
      "metadata": {
        "id": "Rcz6l_T0MUve"
      }
    },
    {
      "cell_type": "code",
      "metadata": {
        "id": "QYMeeusGGrvf"
      },
      "source": [
        "#Importacion de librerias para poder trabajar\n",
        "import tensorflow as tf\n",
        "from tensorflow.keras.datasets import mnist\n",
        "import numpy as np\n",
        "from tensorflow.keras.utils import to_categorical\n",
        "\n",
        "# Cargamos los datos de MNIST\n",
        "# Los datos son imágenes de dígitos escritos a mano y sus respectivas etiquetas.\n",
        "#Dividimos en entrenamiento y prueba y lo cargamos\n",
        "(X_Train, Y_Train), (X_Prueba, Y_Prueba) = mnist.load_data()\n"
      ],
      "execution_count": 43,
      "outputs": []
    },
    {
      "cell_type": "code",
      "metadata": {
        "id": "B9gLUzKxQ2X7"
      },
      "source": [
        "# Ajustar la forma de las imágenes para que puedan ser aceptadas (1, 28, 28, 1)\n",
        "X_Train = X_Train.reshape(X_Train.shape[0], 28, 28, 1)\n",
        "X_Prueba = X_Prueba.reshape(X_Prueba.shape[0], 28, 28, 1)\n",
        "\n",
        "# Hacer 'one-hot encoding' de los resultados\n",
        "# Representar las clases (dígitos del 0 al 9).\n",
        "Y_Train = to_categorical(Y_Train)\n",
        "Y_Prueba = to_categorical(Y_Prueba)\n",
        "\n",
        "\n",
        "# Convertir las imágenes a valores tipo float y normalizar dividiendo por 255.\n",
        "\n",
        "X_Train = X_Train.astype('float32') / 255\n",
        "X_Prueba = X_Prueba.astype('float32') / 255\n"
      ],
      "execution_count": 50,
      "outputs": []
    },
    {
      "cell_type": "markdown",
      "source": [
        "## Datos"
      ],
      "metadata": {
        "id": "wA3jRm8KXErD"
      }
    },
    {
      "cell_type": "markdown",
      "source": [
        "El conjunto de datos MNIST es un conjunto que viene justo para empezar en el manejo de este tipo de programas.\n",
        "\n",
        "-El conjunto de datos MNIST proviene del Instituto Nacional de Estándares y Tecnología (NIST) de EE. UU.\n",
        "\n",
        "-Consiste en un conjunto de 70,000 imágenes en escala de grises de dígitos escritos a mano del 0 al 9. Está dividido en dos conjuntos: uno de entrenamiento con 60,000 imágenes y otro de prueba con 10,000 imágenes.\n",
        "\n",
        "- Cada imagen es de tamaño 28x28 píxeles, lo que da un total de 784 píxeles por imagen. Estas imágenes están normalizadas y centradas.\n",
        "\n",
        "- Cada imagen está etiquetada con el dígito que representa, lo que significa que hay 10 clases en total (dígitos del 0 al 9).\n"
      ],
      "metadata": {
        "id": "nlLWC191WyJp"
      }
    },
    {
      "cell_type": "markdown",
      "source": [
        "Las Redes Neuronales Convolucionales (CNN, Convolutional Neural Networks en inglés) son un tipo de modelo de aprendizaje profundo especialmente diseñado para procesar datos estructurados en forma de mallas, como imágenes y datos 3D.\n",
        "\n",
        "Reconoce y clasifica patrones en datos visuales, pero también se utilizan en una amplia gama de aplicaciones de procesamiento de secuencias y datos espaciales.\n",
        "\n",
        "\n",
        "1. **Capas convolucionales**: Las capas convolucionales son el corazón de las CNN. Estas capas aplican filtros o kernels a pequeñas regiones del o los inputs, realizando operaciones de convolución. Cada filtro aprende a detectar características específicas, como bordes, texturas o patrones simples en las imágenes.\n",
        "\n",
        "2. **Capas de pooling**: Después de las capas convolucionales, es común usar capas de pooling, como MaxPooling en este caso, se busca reducir la dimensionalidad de las representaciones, conservando las características más relevantes. Estas capas ayudan a reducir el sobreajuste.\n",
        "\n",
        "3. **Función de activación**: Utilizaremos la función de activación ReLU (Rectified Linear Unit) para introducir no linealidad en la red. Esto ayuda en la capacidad de aprendizaje de las redes y acelera el proceso de entrenamiento.\n",
        "\n",
        "4. **Regularización**: Aplicaremos técnicas de regularización como Dropout para reducir este problema.\n"
      ],
      "metadata": {
        "id": "k_kY8qAKXlGW"
      }
    },
    {
      "cell_type": "code",
      "metadata": {
        "id": "wQR7QRp_ICYO",
        "colab": {
          "base_uri": "https://localhost:8080/",
          "height": 775
        },
        "outputId": "b18a3331-23c5-47d5-b62f-470f1e318bbd"
      },
      "source": [
        "#Ver mis imágenes contenidas\n",
        "import matplotlib.pyplot as plt\n",
        "F = 4\n",
        "C = 4\n",
        "num = F*C\n",
        "imagenes = X_Train[0:num]\n",
        "etiquetas = Y_Train[0:num]\n",
        "fig, axes = plt.subplots(F, C, figsize=(1.5*C,2*F))\n",
        "for i in range(num):\n",
        "     ax = axes[i//C, i%C]\n",
        "     ax.imshow(imagenes[i].reshape(28,28), cmap='gray_r')\n",
        "     ax.set_title('Label: {}'.format(np.argmax(etiquetas[i])))\n",
        "plt.tight_layout()\n",
        "plt.show()"
      ],
      "execution_count": 52,
      "outputs": [
        {
          "output_type": "display_data",
          "data": {
            "text/plain": [
              "<Figure size 600x800 with 16 Axes>"
            ],
            "image/png": "[encoded data removed]"
          },
          "metadata": {}
        }
      ]
    },
    {
      "cell_type": "markdown",
      "source": [
        "## Ajustes"
      ],
      "metadata": {
        "id": "PBzFw82lXMgH"
      }
    },
    {
      "cell_type": "markdown",
      "source": [
        "En este momento ya teníamos un modleo base, sin embargo al hacer determinada spruebas nos dimos cuentas que los tamaños siempre eran muy similares, y al nosotros dibujar un npumero más grande o más pequeño, el modelo no funcionaba bien, por lo que se tomó la decisión de hacer Data Augmentation para poder mejorar el entrenamiento del modelo"
      ],
      "metadata": {
        "id": "iKcIjWtCUbNc"
      }
    },
    {
      "cell_type": "code",
      "metadata": {
        "id": "WvW96S3NQ9bN"
      },
      "source": [
        "#Aumento de datos\n",
        "#utilizando ImageDataGenerator de keras\n",
        "\n",
        "\n",
        "from tensorflow.keras.preprocessing.image import ImageDataGenerator\n",
        "\n",
        "# Definición de variables para realizar transformaciones\n",
        "Rotar = 30  # Rango de rotación en grados\n",
        "ancho = 0.25  # Rango de desplazamiento horizontal\n",
        "alto = 0.25  # Rango de desplazamiento vertical\n",
        "zoom = [0.5, 1.5]  # Rango de zoom\n",
        "\n",
        "# Crear una instancia de ImageDataGenerator con las transformaciones definidas\n",
        "dataFinal = ImageDataGenerator(\n",
        "    rotation_range=Rotar,\n",
        "    width_shift_range=ancho,\n",
        "    height_shift_range=alto,\n",
        "    zoom_range=zoom\n",
        ")\n",
        "\n",
        "# Aplicar el ajuste a los datos de entrenamiento\n",
        "dataFinal.fit(X_Train)\n"
      ],
      "execution_count": 53,
      "outputs": []
    },
    {
      "cell_type": "markdown",
      "source": [
        "El aumento de datos utilizando `ImageDataGenerator` de Keras con transformaciones como rotación, desplazamiento y zoom tiene varias ventajas.\n",
        "\n",
        "**1.- Aumenta la cantidad de datos**: Generar *nuevas* imágenes a partir de las existentes aumenta la cantidad de datos disponibles para el entrenamiento. Así nuestro modelo aprende de mnaera un poco más variada\n",
        "\n",
        "**2.- Mejora la generalización**: Al exponer al modelo a diferentes variaciones de las imágenes originales, como rotaciones, desplazamientos y zooms, se vuelve más resistente al sobreajuste.\n",
        "\n",
        "**3.Aumenta la diversidad de datos**: Al aplicar transformaciones, se introducen variaciones que imitan las posibles condiciones del mundo real.\n",
        "\n",
        "Aplicamos para mejorar el rendimiento y la capacidad de generalización de este modelo."
      ],
      "metadata": {
        "id": "l_agz9uBWGtw"
      }
    },
    {
      "cell_type": "code",
      "metadata": {
        "id": "rAdy4jCLRIWn"
      },
      "source": [
        "#Modelo\n",
        "\n",
        "#Inicializamos\n",
        "\n",
        "\n",
        "#32 filtros de tamaño (3,3),\n",
        "#Función de activación ReLU\n",
        "#Imágenes de 28x28 píxeles en escala de grises.\n",
        "modelo = tf.keras.models.Sequential([\n",
        "    tf.keras.layers.Conv2D(32, (3,3), activation='relu', input_shape=(28, 28, 1)),\n",
        "    tf.keras.layers.MaxPooling2D(2, 2), #Agrega una capa de pooling con un tamaño de ventana de (2,2)\n",
        "    #Extraigo así, las características más importantes de las impagenes\n",
        "\n",
        "\n",
        "    tf.keras.layers.Conv2D(64, (3,3), activation='relu'),\n",
        "    tf.keras.layers.MaxPooling2D(2,2),\n",
        "\n",
        "    #Agrego una capa de regularización para reducir el sobreajuste,\n",
        "    #Desactivo aleatoriamente el 50% de las neuronas durante el entrenamiento.\n",
        "\n",
        "    tf.keras.layers.Dropout(0.5),\n",
        "    tf.keras.layers.Flatten(),\n",
        "    tf.keras.layers.Dense(100, activation='relu'),\n",
        "    tf.keras.layers.Dense(10, activation=\"softmax\")#Última capa (softmax) con 10 neuronas correspondientes a las 10 clases de dígitos.\n",
        "])\n",
        "\n",
        "\n",
        "\n",
        "#Compilación\n",
        "modelo.compile(optimizer='adam',\n",
        "              loss='categorical_crossentropy',\n",
        "              metrics=['accuracy'])"
      ],
      "execution_count": 54,
      "outputs": []
    },
    {
      "cell_type": "code",
      "metadata": {
        "id": "Sa_zjE70RIT2"
      },
      "source": [
        "#Datos de entrenamiento salen\n",
        "dataTrain = dataFinal.flow(X_Train, Y_Train, batch_size=32)"
      ],
      "execution_count": 55,
      "outputs": []
    },
    {
      "cell_type": "code",
      "metadata": {
        "id": "r9WNLk0xRIQ9",
        "colab": {
          "base_uri": "https://localhost:8080/"
        },
        "outputId": "d7e46e29-a004-4dfc-f6a5-ed380c7ff4ae"
      },
      "source": [
        "TAMANO_LOTE = 32\n",
        "\n",
        "#Entrenar la red. Toma un buen rato! Ve por un café ;)\n",
        "#Oye suscribete al canal!\n",
        "print(\"Entrenando modelo...\");\n",
        "epocas=60\n",
        "history = modelo.fit(\n",
        "    dataTrain,\n",
        "    epochs=epocas,\n",
        "    batch_size=TAMANO_LOTE,\n",
        "    validation_data=(X_Prueba, Y_Prueba),\n",
        "    steps_per_epoch=int(np.ceil(60000 / float(TAMANO_LOTE))),\n",
        "    validation_steps=int(np.ceil(10000 / float(TAMANO_LOTE)))\n",
        ")\n",
        "\n",
        "print(\"Modelo entrenado!\");"
      ],
      "execution_count": null,
      "outputs": [
        {
          "output_type": "stream",
          "name": "stdout",
          "text": [
            "Entrenando modelo...\n",
            "Epoch 1/60\n",
            "1875/1875 [==============================] - 32s 15ms/step - loss: 2.3015 - accuracy: 0.1114 - val_loss: 2.3012 - val_accuracy: 0.1135\n",
            "Epoch 2/60\n",
            "1875/1875 [==============================] - 28s 15ms/step - loss: 2.3014 - accuracy: 0.1124 - val_loss: 2.3011 - val_accuracy: 0.1135\n",
            "Epoch 3/60\n",
            "1875/1875 [==============================] - 28s 15ms/step - loss: 2.3014 - accuracy: 0.1124 - val_loss: 2.3011 - val_accuracy: 0.1135\n",
            "Epoch 4/60\n",
            "1875/1875 [==============================] - 30s 16ms/step - loss: 2.3014 - accuracy: 0.1124 - val_loss: 2.3011 - val_accuracy: 0.1135\n",
            "Epoch 5/60\n",
            "1875/1875 [==============================] - 32s 17ms/step - loss: 2.3013 - accuracy: 0.1124 - val_loss: 2.3012 - val_accuracy: 0.1135\n",
            "Epoch 6/60\n",
            "1875/1875 [==============================] - 32s 17ms/step - loss: 2.3014 - accuracy: 0.1124 - val_loss: 2.3011 - val_accuracy: 0.1135\n",
            "Epoch 7/60\n",
            "1875/1875 [==============================] - 29s 15ms/step - loss: 2.3013 - accuracy: 0.1124 - val_loss: 2.3010 - val_accuracy: 0.1135\n",
            "Epoch 8/60\n",
            "1875/1875 [==============================] - 29s 15ms/step - loss: 2.3013 - accuracy: 0.1124 - val_loss: 2.3010 - val_accuracy: 0.1135\n",
            "Epoch 9/60\n",
            "1875/1875 [==============================] - 28s 15ms/step - loss: 2.3013 - accuracy: 0.1124 - val_loss: 2.3012 - val_accuracy: 0.1135\n",
            "Epoch 10/60\n",
            "1875/1875 [==============================] - 33s 18ms/step - loss: 2.3014 - accuracy: 0.1124 - val_loss: 2.3011 - val_accuracy: 0.1135\n",
            "Epoch 11/60\n",
            "1875/1875 [==============================] - 29s 15ms/step - loss: 2.3013 - accuracy: 0.1124 - val_loss: 2.3011 - val_accuracy: 0.1135\n",
            "Epoch 12/60\n",
            "1875/1875 [==============================] - 27s 15ms/step - loss: 2.3013 - accuracy: 0.1124 - val_loss: 2.3011 - val_accuracy: 0.1135\n",
            "Epoch 13/60\n",
            "1875/1875 [==============================] - 29s 16ms/step - loss: 2.3013 - accuracy: 0.1124 - val_loss: 2.3009 - val_accuracy: 0.1135\n",
            "Epoch 14/60\n",
            "1875/1875 [==============================] - 28s 15ms/step - loss: 2.3014 - accuracy: 0.1124 - val_loss: 2.3010 - val_accuracy: 0.1135\n",
            "Epoch 15/60\n",
            "1875/1875 [==============================] - 34s 18ms/step - loss: 2.3013 - accuracy: 0.1124 - val_loss: 2.3012 - val_accuracy: 0.1135\n",
            "Epoch 16/60\n",
            "1875/1875 [==============================] - 32s 17ms/step - loss: 2.3014 - accuracy: 0.1124 - val_loss: 2.3011 - val_accuracy: 0.1135\n",
            "Epoch 17/60\n",
            "1875/1875 [==============================] - 32s 17ms/step - loss: 2.3014 - accuracy: 0.1124 - val_loss: 2.3010 - val_accuracy: 0.1135\n",
            "Epoch 18/60\n",
            "1875/1875 [==============================] - 37s 20ms/step - loss: 2.3013 - accuracy: 0.1124 - val_loss: 2.3011 - val_accuracy: 0.1135\n",
            "Epoch 19/60\n",
            "1875/1875 [==============================] - 35s 19ms/step - loss: 2.3013 - accuracy: 0.1124 - val_loss: 2.3012 - val_accuracy: 0.1135\n",
            "Epoch 20/60\n",
            "1875/1875 [==============================] - 27s 15ms/step - loss: 2.3014 - accuracy: 0.1124 - val_loss: 2.3010 - val_accuracy: 0.1135\n",
            "Epoch 21/60\n",
            "1875/1875 [==============================] - 28s 15ms/step - loss: 2.3013 - accuracy: 0.1124 - val_loss: 2.3010 - val_accuracy: 0.1135\n",
            "Epoch 22/60\n",
            "1875/1875 [==============================] - 33s 18ms/step - loss: 2.3013 - accuracy: 0.1124 - val_loss: 2.3011 - val_accuracy: 0.1135\n",
            "Epoch 23/60\n",
            "1875/1875 [==============================] - 35s 19ms/step - loss: 2.3014 - accuracy: 0.1124 - val_loss: 2.3010 - val_accuracy: 0.1135\n",
            "Epoch 24/60\n",
            "1875/1875 [==============================] - 35s 18ms/step - loss: 2.3013 - accuracy: 0.1124 - val_loss: 2.3011 - val_accuracy: 0.1135\n",
            "Epoch 25/60\n",
            "1875/1875 [==============================] - 30s 16ms/step - loss: 2.3014 - accuracy: 0.1124 - val_loss: 2.3010 - val_accuracy: 0.1135\n",
            "Epoch 26/60\n",
            "1875/1875 [==============================] - 28s 15ms/step - loss: 2.3014 - accuracy: 0.1124 - val_loss: 2.3011 - val_accuracy: 0.1135\n",
            "Epoch 27/60\n",
            "1875/1875 [==============================] - 29s 15ms/step - loss: 2.3013 - accuracy: 0.1124 - val_loss: 2.3012 - val_accuracy: 0.1135\n",
            "Epoch 28/60\n",
            "1875/1875 [==============================] - 31s 17ms/step - loss: 2.3014 - accuracy: 0.1124 - val_loss: 2.3010 - val_accuracy: 0.1135\n",
            "Epoch 29/60\n",
            "1875/1875 [==============================] - 34s 18ms/step - loss: 2.3014 - accuracy: 0.1124 - val_loss: 2.3010 - val_accuracy: 0.1135\n",
            "Epoch 30/60\n",
            "1875/1875 [==============================] - 33s 18ms/step - loss: 2.3014 - accuracy: 0.1124 - val_loss: 2.3010 - val_accuracy: 0.1135\n",
            "Epoch 31/60\n",
            "1875/1875 [==============================] - 28s 15ms/step - loss: 2.3013 - accuracy: 0.1124 - val_loss: 2.3011 - val_accuracy: 0.1135\n",
            "Epoch 32/60\n",
            "1875/1875 [==============================] - 30s 16ms/step - loss: 2.3013 - accuracy: 0.1124 - val_loss: 2.3010 - val_accuracy: 0.1135\n",
            "Epoch 33/60\n",
            "1875/1875 [==============================] - 34s 18ms/step - loss: 2.3013 - accuracy: 0.1124 - val_loss: 2.3010 - val_accuracy: 0.1135\n",
            "Epoch 34/60\n",
            "1875/1875 [==============================] - 35s 19ms/step - loss: 2.3014 - accuracy: 0.1124 - val_loss: 2.3011 - val_accuracy: 0.1135\n",
            "Epoch 35/60\n",
            "1875/1875 [==============================] - 32s 17ms/step - loss: 2.3014 - accuracy: 0.1124 - val_loss: 2.3011 - val_accuracy: 0.1135\n",
            "Epoch 36/60\n",
            "1875/1875 [==============================] - 37s 20ms/step - loss: 2.3014 - accuracy: 0.1124 - val_loss: 2.3011 - val_accuracy: 0.1135\n",
            "Epoch 37/60\n",
            "1875/1875 [==============================] - 38s 20ms/step - loss: 2.3013 - accuracy: 0.1124 - val_loss: 2.3010 - val_accuracy: 0.1135\n",
            "Epoch 38/60\n",
            "1875/1875 [==============================] - 38s 20ms/step - loss: 2.3014 - accuracy: 0.1124 - val_loss: 2.3012 - val_accuracy: 0.1135\n",
            "Epoch 39/60\n",
            "1875/1875 [==============================] - 30s 16ms/step - loss: 2.3014 - accuracy: 0.1124 - val_loss: 2.3011 - val_accuracy: 0.1135\n",
            "Epoch 40/60\n",
            "1875/1875 [==============================] - 29s 15ms/step - loss: 2.3014 - accuracy: 0.1124 - val_loss: 2.3011 - val_accuracy: 0.1135\n",
            "Epoch 41/60\n",
            "1875/1875 [==============================] - 31s 17ms/step - loss: 2.3013 - accuracy: 0.1124 - val_loss: 2.3011 - val_accuracy: 0.1135\n",
            "Epoch 42/60\n",
            "1875/1875 [==============================] - 37s 20ms/step - loss: 2.3013 - accuracy: 0.1124 - val_loss: 2.3012 - val_accuracy: 0.1135\n",
            "Epoch 43/60\n",
            "1187/1875 [=================>............] - ETA: 10s - loss: 2.3015 - accuracy: 0.1109"
          ]
        }
      ]
    },
    {
      "cell_type": "code",
      "metadata": {
        "id": "blEfn0ZSM6Fq",
        "colab": {
          "base_uri": "https://localhost:8080/"
        },
        "outputId": "f492b051-3bc4-4bde-acf9-80dec95baf2a"
      },
      "source": [
        "#Exportar el modelo al explorador!\n",
        "modelo.save('numeros_conv_ad_do.h5')"
      ],
      "execution_count": 4,
      "outputs": [
        {
          "output_type": "stream",
          "name": "stderr",
          "text": [
            "/usr/local/lib/python3.10/dist-packages/keras/src/engine/training.py:3079: UserWarning: You are saving your model as an HDF5 file via `model.save()`. This file format is considered legacy. We recommend using instead the native Keras format, e.g. `model.save('my_model.keras')`.\n",
            "  saving_api.save_model(\n"
          ]
        }
      ]
    },
    {
      "cell_type": "code",
      "source": [
        "#Esta fue la primera prueba se prueba ocn distintas imágenes pero subiendolas, no directamente dibuajdo\n",
        "#lo cual puede estra un poco sesgado y esto se mejorara para la siguiente entrega\n",
        "import numpy as np\n",
        "from PIL import Image\n",
        "\n",
        "# Cargar y preprocesar tu imagen dibujada (Las imágenes las dibujaba en powerpoint)\n",
        "imagen_dibujada = Image.open(\"6.jpeg\").convert(\"L\")  # Convierto a escala de grises\n",
        "imagen_dibujada = imagen_dibujada.resize((28, 28))  # Ajusto al tamaño de entrada de la red\n",
        "imagen_dibujada = np.asarray(imagen_dibujada)  # Convierto a un array de NumPy\n",
        "imagen_dibujada = imagen_dibujada / 255.0  # Normalizo los valores de píxeles\n",
        "\n",
        "\n",
        "imagen_dibujada = tf.expand_dims(imagen_dibujada, axis=0)\n",
        "\n",
        "# Realizo la predicción\n",
        "prediccion = modelo.predict(imagen_dibujada)\n",
        "\n",
        "# Obtengo la clase predicha\n",
        "clase_predicha = np.argmax(prediccion)\n",
        "\n",
        "# Lo muestro\n",
        "print(\"Clase predicha:\", clase_predicha)"
      ],
      "metadata": {
        "colab": {
          "base_uri": "https://localhost:8080/"
        },
        "id": "oqaFfluC90F0",
        "outputId": "9ac24890-a9bd-4f40-aa52-a59330f32746"
      },
      "execution_count": 13,
      "outputs": [
        {
          "output_type": "stream",
          "name": "stdout",
          "text": [
            "1/1 [==============================] - 0s 139ms/step\n",
            "Clase predicha: 8\n"
          ]
        }
      ]
    },
    {
      "cell_type": "code",
      "source": [
        "#Todo este código presentará mejoras pero ya es para que el usuario pueda inetractuar y dibujar\n",
        "!pip install ipywidgets\n",
        "from IPython.display import display, HTML, Javascript\n",
        "import ipywidgets as widgets\n",
        "import matplotlib.pyplot as plt\n",
        "from PIL import Image\n",
        "import numpy as np\n",
        "import tensorflow as tf\n",
        "\n",
        "\n",
        "def draw_and_predict(model, canvas_output):\n",
        "    # Guardar la imagen dibujada en un como pizarron\n",
        "    plt.savefig(\"input_image.png\", bbox_inches='tight', pad_inches=0.1)\n",
        "\n",
        "    # Cargo mi dibujo\n",
        "    imagen_dibujada = np.array(Image.open(\"input_image.png\").convert(\"L\").resize((28, 28))) / 255.0\n",
        "    imagen_dibujada = tf.expand_dims(imagen_dibujada, axis=0)\n",
        "\n",
        "    # Manod mi prediccion\n",
        "    prediccion = model.predict(imagen_dibujada)\n",
        "\n",
        "    # Obtengo resultado\n",
        "    clase_predicha = np.argmax(prediccion)\n",
        "\n",
        "    print(\"Clase predicha:\", clase_predicha)\n",
        "\n",
        "\n",
        "canvas = widgets.Output(width=400, height=400, background_color='white')\n",
        "\n",
        "# HTML y JavaScript para \"manejar\" el dibujo en el lienzo\n",
        "draw_html = \"\"\"\n",
        "<canvas id=\"canvas\" width=\"400\" height=\"400\" style=\"border:1px solid #000;\"></canvas>\n",
        "<script>\n",
        "var canvas = document.getElementById('canvas');\n",
        "var ctx = canvas.getContext('2d');\n",
        "var drawing = false;\n",
        "\n",
        "// Aumenta el grosor de línea\n",
        "ctx.lineWidth = 15;\n",
        "\n",
        "canvas.addEventListener('mousedown', function(e) {\n",
        "    drawing = true;\n",
        "    ctx.beginPath();\n",
        "    ctx.moveTo(e.clientX - canvas.getBoundingClientRect().left, e.clientY - canvas.getBoundingClientRect().top);\n",
        "});\n",
        "\n",
        "canvas.addEventListener('mousemove', function(e) {\n",
        "    if (!drawing) return;\n",
        "    ctx.lineTo(e.clientX - canvas.getBoundingClientRect().left, e.clientY - canvas.getBoundingClientRect().top);\n",
        "    ctx.stroke();\n",
        "});\n",
        "\n",
        "canvas.addEventListener('mouseup', function() {\n",
        "    drawing = false;\n",
        "});\n",
        "\n",
        "canvas.addEventListener('mouseout', function() {\n",
        "    drawing = false;\n",
        "});\n",
        "</script>\n",
        "\"\"\"\n",
        "\n",
        "\n",
        "display(HTML(draw_html), canvas)\n",
        "\n",
        "# Botón para realizar la predicción\n",
        "boton_prediccion = widgets.Button(description=\"Predecir\")\n",
        "display(boton_prediccion)\n",
        "\n",
        "# Función a ejecutar al hacer clic en el botón\n",
        "def on_button_click(b):\n",
        "    with canvas:\n",
        "        # Limpiar el lienzo antes de guardar la nueva imagen\n",
        "        plt.clf()\n",
        "        # Realizar la predicción con la imagen actual\n",
        "        draw_and_predict(modelo, canvas)\n",
        "        # Limpiar el lienzo después de la predicción\n",
        "        plt.clf()\n",
        "\n",
        "# Asociar la función al evento de clic del botón\n",
        "boton_prediccion.on_click(on_button_click)\n",
        "\n"
      ],
      "metadata": {
        "colab": {
          "base_uri": "https://localhost:8080/",
          "height": 1000,
          "referenced_widgets": [
            "6c4dbabf8a464619b978e0ccecd72220",
            "9611f496a6944de7a66886f5ca0079d5",
            "7a07c522cbc64cc288d15d26df90df4c",
            "16d191f3243f43f192506c0dba02960c",
            "3ea065c19eeb408a8b0b4bf47826c467"
          ]
        },
        "id": "1cgtyiyEnKtS",
        "outputId": "97ba4db3-f7de-4e96-d45a-d68fd84f8eb8"
      },
      "execution_count": 8,
      "outputs": [
        {
          "output_type": "stream",
          "name": "stdout",
          "text": [
            "Requirement already satisfied: ipywidgets in /usr/local/lib/python3.10/dist-packages (7.7.1)\n",
            "Requirement already satisfied: ipykernel>=4.5.1 in /usr/local/lib/python3.10/dist-packages (from ipywidgets) (5.5.6)\n",
            "Requirement already satisfied: ipython-genutils~=0.2.0 in /usr/local/lib/python3.10/dist-packages (from ipywidgets) (0.2.0)\n",
            "Requirement already satisfied: traitlets>=4.3.1 in /usr/local/lib/python3.10/dist-packages (from ipywidgets) (5.7.1)\n",
            "Requirement already satisfied: widgetsnbextension~=3.6.0 in /usr/local/lib/python3.10/dist-packages (from ipywidgets) (3.6.6)\n",
            "Requirement already satisfied: ipython>=4.0.0 in /usr/local/lib/python3.10/dist-packages (from ipywidgets) (7.34.0)\n",
            "Requirement already satisfied: jupyterlab-widgets>=1.0.0 in /usr/local/lib/python3.10/dist-packages (from ipywidgets) (3.0.9)\n",
            "Requirement already satisfied: jupyter-client in /usr/local/lib/python3.10/dist-packages (from ipykernel>=4.5.1->ipywidgets) (6.1.12)\n",
            "Requirement already satisfied: tornado>=4.2 in /usr/local/lib/python3.10/dist-packages (from ipykernel>=4.5.1->ipywidgets) (6.3.2)\n",
            "Requirement already satisfied: setuptools>=18.5 in /usr/local/lib/python3.10/dist-packages (from ipython>=4.0.0->ipywidgets) (67.7.2)\n",
            "Requirement already satisfied: jedi>=0.16 in /usr/local/lib/python3.10/dist-packages (from ipython>=4.0.0->ipywidgets) (0.19.1)\n",
            "Requirement already satisfied: decorator in /usr/local/lib/python3.10/dist-packages (from ipython>=4.0.0->ipywidgets) (4.4.2)\n",
            "Requirement already satisfied: pickleshare in /usr/local/lib/python3.10/dist-packages (from ipython>=4.0.0->ipywidgets) (0.7.5)\n",
            "Requirement already satisfied: prompt-toolkit!=3.0.0,!=3.0.1,<3.1.0,>=2.0.0 in /usr/local/lib/python3.10/dist-packages (from ipython>=4.0.0->ipywidgets) (3.0.39)\n",
            "Requirement already satisfied: pygments in /usr/local/lib/python3.10/dist-packages (from ipython>=4.0.0->ipywidgets) (2.16.1)\n",
            "Requirement already satisfied: backcall in /usr/local/lib/python3.10/dist-packages (from ipython>=4.0.0->ipywidgets) (0.2.0)\n",
            "Requirement already satisfied: matplotlib-inline in /usr/local/lib/python3.10/dist-packages (from ipython>=4.0.0->ipywidgets) (0.1.6)\n",
            "Requirement already satisfied: pexpect>4.3 in /usr/local/lib/python3.10/dist-packages (from ipython>=4.0.0->ipywidgets) (4.8.0)\n",
            "Requirement already satisfied: notebook>=4.4.1 in /usr/local/lib/python3.10/dist-packages (from widgetsnbextension~=3.6.0->ipywidgets) (6.5.5)\n",
            "Requirement already satisfied: parso<0.9.0,>=0.8.3 in /usr/local/lib/python3.10/dist-packages (from jedi>=0.16->ipython>=4.0.0->ipywidgets) (0.8.3)\n",
            "Requirement already satisfied: jinja2 in /usr/local/lib/python3.10/dist-packages (from notebook>=4.4.1->widgetsnbextension~=3.6.0->ipywidgets) (3.1.2)\n",
            "Requirement already satisfied: pyzmq<25,>=17 in /usr/local/lib/python3.10/dist-packages (from notebook>=4.4.1->widgetsnbextension~=3.6.0->ipywidgets) (23.2.1)\n",
            "Requirement already satisfied: argon2-cffi in /usr/local/lib/python3.10/dist-packages (from notebook>=4.4.1->widgetsnbextension~=3.6.0->ipywidgets) (23.1.0)\n",
            "Requirement already satisfied: jupyter-core>=4.6.1 in /usr/local/lib/python3.10/dist-packages (from notebook>=4.4.1->widgetsnbextension~=3.6.0->ipywidgets) (5.5.0)\n",
            "Requirement already satisfied: nbformat in /usr/local/lib/python3.10/dist-packages (from notebook>=4.4.1->widgetsnbextension~=3.6.0->ipywidgets) (5.9.2)\n",
            "Requirement already satisfied: nbconvert>=5 in /usr/local/lib/python3.10/dist-packages (from notebook>=4.4.1->widgetsnbextension~=3.6.0->ipywidgets) (6.5.4)\n",
            "Requirement already satisfied: nest-asyncio>=1.5 in /usr/local/lib/python3.10/dist-packages (from notebook>=4.4.1->widgetsnbextension~=3.6.0->ipywidgets) (1.5.8)\n",
            "Requirement already satisfied: Send2Trash>=1.8.0 in /usr/local/lib/python3.10/dist-packages (from notebook>=4.4.1->widgetsnbextension~=3.6.0->ipywidgets) (1.8.2)\n",
            "Requirement already satisfied: terminado>=0.8.3 in /usr/local/lib/python3.10/dist-packages (from notebook>=4.4.1->widgetsnbextension~=3.6.0->ipywidgets) (0.17.1)\n",
            "Requirement already satisfied: prometheus-client in /usr/local/lib/python3.10/dist-packages (from notebook>=4.4.1->widgetsnbextension~=3.6.0->ipywidgets) (0.18.0)\n",
            "Requirement already satisfied: nbclassic>=0.4.7 in /usr/local/lib/python3.10/dist-packages (from notebook>=4.4.1->widgetsnbextension~=3.6.0->ipywidgets) (1.0.0)\n",
            "Requirement already satisfied: python-dateutil>=2.1 in /usr/local/lib/python3.10/dist-packages (from jupyter-client->ipykernel>=4.5.1->ipywidgets) (2.8.2)\n",
            "Requirement already satisfied: ptyprocess>=0.5 in /usr/local/lib/python3.10/dist-packages (from pexpect>4.3->ipython>=4.0.0->ipywidgets) (0.7.0)\n",
            "Requirement already satisfied: wcwidth in /usr/local/lib/python3.10/dist-packages (from prompt-toolkit!=3.0.0,!=3.0.1,<3.1.0,>=2.0.0->ipython>=4.0.0->ipywidgets) (0.2.9)\n",
            "Requirement already satisfied: platformdirs>=2.5 in /usr/local/lib/python3.10/dist-packages (from jupyter-core>=4.6.1->notebook>=4.4.1->widgetsnbextension~=3.6.0->ipywidgets) (3.11.0)\n",
            "Requirement already satisfied: jupyter-server>=1.8 in /usr/local/lib/python3.10/dist-packages (from nbclassic>=0.4.7->notebook>=4.4.1->widgetsnbextension~=3.6.0->ipywidgets) (1.24.0)\n",
            "Requirement already satisfied: notebook-shim>=0.2.3 in /usr/local/lib/python3.10/dist-packages (from nbclassic>=0.4.7->notebook>=4.4.1->widgetsnbextension~=3.6.0->ipywidgets) (0.2.3)\n",
            "Requirement already satisfied: lxml in /usr/local/lib/python3.10/dist-packages (from nbconvert>=5->notebook>=4.4.1->widgetsnbextension~=3.6.0->ipywidgets) (4.9.3)\n",
            "Requirement already satisfied: beautifulsoup4 in /usr/local/lib/python3.10/dist-packages (from nbconvert>=5->notebook>=4.4.1->widgetsnbextension~=3.6.0->ipywidgets) (4.11.2)\n",
            "Requirement already satisfied: bleach in /usr/local/lib/python3.10/dist-packages (from nbconvert>=5->notebook>=4.4.1->widgetsnbextension~=3.6.0->ipywidgets) (6.1.0)\n",
            "Requirement already satisfied: defusedxml in /usr/local/lib/python3.10/dist-packages (from nbconvert>=5->notebook>=4.4.1->widgetsnbextension~=3.6.0->ipywidgets) (0.7.1)\n",
            "Requirement already satisfied: entrypoints>=0.2.2 in /usr/local/lib/python3.10/dist-packages (from nbconvert>=5->notebook>=4.4.1->widgetsnbextension~=3.6.0->ipywidgets) (0.4)\n",
            "Requirement already satisfied: jupyterlab-pygments in /usr/local/lib/python3.10/dist-packages (from nbconvert>=5->notebook>=4.4.1->widgetsnbextension~=3.6.0->ipywidgets) (0.2.2)\n",
            "Requirement already satisfied: MarkupSafe>=2.0 in /usr/local/lib/python3.10/dist-packages (from nbconvert>=5->notebook>=4.4.1->widgetsnbextension~=3.6.0->ipywidgets) (2.1.3)\n",
            "Requirement already satisfied: mistune<2,>=0.8.1 in /usr/local/lib/python3.10/dist-packages (from nbconvert>=5->notebook>=4.4.1->widgetsnbextension~=3.6.0->ipywidgets) (0.8.4)\n",
            "Requirement already satisfied: nbclient>=0.5.0 in /usr/local/lib/python3.10/dist-packages (from nbconvert>=5->notebook>=4.4.1->widgetsnbextension~=3.6.0->ipywidgets) (0.9.0)\n",
            "Requirement already satisfied: packaging in /usr/local/lib/python3.10/dist-packages (from nbconvert>=5->notebook>=4.4.1->widgetsnbextension~=3.6.0->ipywidgets) (23.2)\n",
            "Requirement already satisfied: pandocfilters>=1.4.1 in /usr/local/lib/python3.10/dist-packages (from nbconvert>=5->notebook>=4.4.1->widgetsnbextension~=3.6.0->ipywidgets) (1.5.0)\n",
            "Requirement already satisfied: tinycss2 in /usr/local/lib/python3.10/dist-packages (from nbconvert>=5->notebook>=4.4.1->widgetsnbextension~=3.6.0->ipywidgets) (1.2.1)\n",
            "Requirement already satisfied: fastjsonschema in /usr/local/lib/python3.10/dist-packages (from nbformat->notebook>=4.4.1->widgetsnbextension~=3.6.0->ipywidgets) (2.18.1)\n",
            "Requirement already satisfied: jsonschema>=2.6 in /usr/local/lib/python3.10/dist-packages (from nbformat->notebook>=4.4.1->widgetsnbextension~=3.6.0->ipywidgets) (4.19.2)\n",
            "Requirement already satisfied: six>=1.5 in /usr/local/lib/python3.10/dist-packages (from python-dateutil>=2.1->jupyter-client->ipykernel>=4.5.1->ipywidgets) (1.16.0)\n",
            "Requirement already satisfied: argon2-cffi-bindings in /usr/local/lib/python3.10/dist-packages (from argon2-cffi->notebook>=4.4.1->widgetsnbextension~=3.6.0->ipywidgets) (21.2.0)\n",
            "Requirement already satisfied: attrs>=22.2.0 in /usr/local/lib/python3.10/dist-packages (from jsonschema>=2.6->nbformat->notebook>=4.4.1->widgetsnbextension~=3.6.0->ipywidgets) (23.1.0)\n",
            "Requirement already satisfied: jsonschema-specifications>=2023.03.6 in /usr/local/lib/python3.10/dist-packages (from jsonschema>=2.6->nbformat->notebook>=4.4.1->widgetsnbextension~=3.6.0->ipywidgets) (2023.7.1)\n",
            "Requirement already satisfied: referencing>=0.28.4 in /usr/local/lib/python3.10/dist-packages (from jsonschema>=2.6->nbformat->notebook>=4.4.1->widgetsnbextension~=3.6.0->ipywidgets) (0.30.2)\n",
            "Requirement already satisfied: rpds-py>=0.7.1 in /usr/local/lib/python3.10/dist-packages (from jsonschema>=2.6->nbformat->notebook>=4.4.1->widgetsnbextension~=3.6.0->ipywidgets) (0.12.0)\n",
            "Requirement already satisfied: anyio<4,>=3.1.0 in /usr/local/lib/python3.10/dist-packages (from jupyter-server>=1.8->nbclassic>=0.4.7->notebook>=4.4.1->widgetsnbextension~=3.6.0->ipywidgets) (3.7.1)\n",
            "Requirement already satisfied: websocket-client in /usr/local/lib/python3.10/dist-packages (from jupyter-server>=1.8->nbclassic>=0.4.7->notebook>=4.4.1->widgetsnbextension~=3.6.0->ipywidgets) (1.6.4)\n",
            "Requirement already satisfied: cffi>=1.0.1 in /usr/local/lib/python3.10/dist-packages (from argon2-cffi-bindings->argon2-cffi->notebook>=4.4.1->widgetsnbextension~=3.6.0->ipywidgets) (1.16.0)\n",
            "Requirement already satisfied: soupsieve>1.2 in /usr/local/lib/python3.10/dist-packages (from beautifulsoup4->nbconvert>=5->notebook>=4.4.1->widgetsnbextension~=3.6.0->ipywidgets) (2.5)\n",
            "Requirement already satisfied: webencodings in /usr/local/lib/python3.10/dist-packages (from bleach->nbconvert>=5->notebook>=4.4.1->widgetsnbextension~=3.6.0->ipywidgets) (0.5.1)\n",
            "Requirement already satisfied: idna>=2.8 in /usr/local/lib/python3.10/dist-packages (from anyio<4,>=3.1.0->jupyter-server>=1.8->nbclassic>=0.4.7->notebook>=4.4.1->widgetsnbextension~=3.6.0->ipywidgets) (3.4)\n",
            "Requirement already satisfied: sniffio>=1.1 in /usr/local/lib/python3.10/dist-packages (from anyio<4,>=3.1.0->jupyter-server>=1.8->nbclassic>=0.4.7->notebook>=4.4.1->widgetsnbextension~=3.6.0->ipywidgets) (1.3.0)\n",
            "Requirement already satisfied: exceptiongroup in /usr/local/lib/python3.10/dist-packages (from anyio<4,>=3.1.0->jupyter-server>=1.8->nbclassic>=0.4.7->notebook>=4.4.1->widgetsnbextension~=3.6.0->ipywidgets) (1.1.3)\n",
            "Requirement already satisfied: pycparser in /usr/local/lib/python3.10/dist-packages (from cffi>=1.0.1->argon2-cffi-bindings->argon2-cffi->notebook>=4.4.1->widgetsnbextension~=3.6.0->ipywidgets) (2.21)\n"
          ]
        },
        {
          "output_type": "display_data",
          "data": {
            "text/plain": [
              "<IPython.core.display.HTML object>"
            ],
            "text/html": [
              "\n",
              "<canvas id=\"canvas\" width=\"400\" height=\"400\" style=\"border:1px solid #000;\"></canvas>\n",
              "<script>\n",
              "var canvas = document.getElementById('canvas');\n",
              "var ctx = canvas.getContext('2d');\n",
              "var drawing = false;\n",
              "\n",
              "// Aumenta el grosor de línea\n",
              "ctx.lineWidth = 15;\n",
              "\n",
              "canvas.addEventListener('mousedown', function(e) {\n",
              "    drawing = true;\n",
              "    ctx.beginPath();\n",
              "    ctx.moveTo(e.clientX - canvas.getBoundingClientRect().left, e.clientY - canvas.getBoundingClientRect().top);\n",
              "});\n",
              "\n",
              "canvas.addEventListener('mousemove', function(e) {\n",
              "    if (!drawing) return;\n",
              "    ctx.lineTo(e.clientX - canvas.getBoundingClientRect().left, e.clientY - canvas.getBoundingClientRect().top);\n",
              "    ctx.stroke();\n",
              "});\n",
              "\n",
              "canvas.addEventListener('mouseup', function() {\n",
              "    drawing = false;\n",
              "});\n",
              "\n",
              "canvas.addEventListener('mouseout', function() {\n",
              "    drawing = false;\n",
              "});\n",
              "</script>\n"
            ]
          },
          "metadata": {}
        },
        {
          "output_type": "display_data",
          "data": {
            "text/plain": [
              "Output()"
            ],
            "application/vnd.jupyter.widget-view+json": {
              "version_major": 2,
              "version_minor": 0,
              "model_id": "6c4dbabf8a464619b978e0ccecd72220"
            }
          },
          "metadata": {}
        },
        {
          "output_type": "display_data",
          "data": {
            "text/plain": [
              "Button(description='Predecir', style=ButtonStyle())"
            ],
            "application/vnd.jupyter.widget-view+json": {
              "version_major": 2,
              "version_minor": 0,
              "model_id": "7a07c522cbc64cc288d15d26df90df4c"
            }
          },
          "metadata": {}
        },
        {
          "output_type": "display_data",
          "data": {
            "text/plain": [
              "<Figure size 640x480 with 0 Axes>"
            ]
          },
          "metadata": {}
        }
      ]
    }
  ]
}